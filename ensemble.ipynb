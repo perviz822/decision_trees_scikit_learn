{
 "cells": [
  {
   "cell_type": "markdown",
   "id": "0e589f79",
   "metadata": {},
   "source": [
    "<h2> Loading MNIST dataset <h2>"
   ]
  },
  {
   "cell_type": "code",
   "execution_count": 19,
   "id": "844aca7b",
   "metadata": {},
   "outputs": [
    {
     "name": "stdout",
     "output_type": "stream",
     "text": [
      "(70000, 784)\n",
      "(70000,)\n"
     ]
    }
   ],
   "source": [
    "from sklearn.datasets import fetch_openml\n",
    "# Preferred: fetch by name\n",
    "X, y = fetch_openml(\"mnist_784\", version=1, return_X_y=True)\n",
    "print(X.shape)\n",
    "print(y.shape)"
   ]
  },
  {
   "cell_type": "markdown",
   "id": "90bcce2f",
   "metadata": {},
   "source": [
    "<h2> Train test and validation split <h2>"
   ]
  },
  {
   "cell_type": "code",
   "execution_count": 2,
   "id": "805ba843",
   "metadata": {},
   "outputs": [
    {
     "name": "stdout",
     "output_type": "stream",
     "text": [
      "Train: (50000, 784)\n",
      "Validation: (10000, 784)\n",
      "Test: (10000, 784)\n"
     ]
    }
   ],
   "source": [
    "from sklearn.model_selection import train_test_split\n",
    "\n",
    "\n",
    "# First split: Train + Test\n",
    "X_train_full, X_test, y_train_full, y_test = train_test_split(\n",
    "    X, y, test_size=10000, random_state=42\n",
    ")\n",
    "\n",
    "# Second split: Train + Validation\n",
    "X_train, X_valid, y_train, y_valid = train_test_split(\n",
    "    X_train_full, y_train_full, test_size=10000, random_state=42\n",
    ")\n",
    "\n",
    "print(\"Train:\", X_train.shape)\n",
    "print(\"Validation:\", X_valid.shape)\n",
    "print(\"Test:\", X_test.shape)\n",
    "\n"
   ]
  },
  {
   "cell_type": "markdown",
   "id": "e387099f",
   "metadata": {},
   "source": [
    "<h2> Importing libraries that will be used across models <h2>"
   ]
  },
  {
   "cell_type": "code",
   "execution_count": null,
   "id": "9bd74f66",
   "metadata": {},
   "outputs": [
    {
     "name": "stdout",
     "output_type": "stream",
     "text": [
      "(50000, 784)\n"
     ]
    }
   ],
   "source": [
    "\n",
    "from sklearn.pipeline import Pipeline\n",
    "from sklearn.preprocessing import StandardScaler\n",
    "from sklearn.metrics import accuracy_score"
   ]
  },
  {
   "cell_type": "markdown",
   "id": "5b6202c9",
   "metadata": {},
   "source": [
    "<h2> Defining the true labels <h2>"
   ]
  },
  {
   "cell_type": "code",
   "execution_count": 13,
   "id": "56772416",
   "metadata": {},
   "outputs": [],
   "source": [
    "true_labels = y_valid"
   ]
  },
  {
   "cell_type": "markdown",
   "id": "21d53cbe",
   "metadata": {},
   "source": [
    "<h2> Training a ridge classifier <h2>"
   ]
  },
  {
   "cell_type": "code",
   "execution_count": null,
   "id": "87827387",
   "metadata": {},
   "outputs": [
    {
     "name": "stdout",
     "output_type": "stream",
     "text": [
      "Accuracy score of Ridge regression is  0.8455\n"
     ]
    }
   ],
   "source": [
    "from sklearn.linear_model import RidgeClassifier\n",
    "\n",
    "steps_ridge = Pipeline([\n",
    "   ( 'scaler',StandardScaler()),\n",
    "   ('classifier',RidgeClassifier(alpha=0.5))\n",
    "])\n",
    "\n",
    "steps_ridge.fit(X_train,y_train)\n",
    "\n",
    "predictions = steps_ridge.predict(X_valid)\n",
    "\n",
    "\n",
    "print(\"Accuracy score of Ridge regression is \",accuracy_score(predictions,true_labels))\n"
   ]
  },
  {
   "cell_type": "markdown",
   "id": "a1160125",
   "metadata": {},
   "source": [
    "<h2> Training SVM classifier <h2>"
   ]
  },
  {
   "cell_type": "code",
   "execution_count": null,
   "id": "a562b775",
   "metadata": {},
   "outputs": [
    {
     "name": "stdout",
     "output_type": "stream",
     "text": [
      "Accuracy score of SVM r is  0.921\n"
     ]
    }
   ],
   "source": [
    "from sklearn.svm import SVC\n",
    "\n",
    "\n",
    "steps_SVM = Pipeline([\n",
    "    ('scaler',StandardScaler()),\n",
    "    ('classifier',SVC(kernel='linear'))\n",
    "])\n",
    "\n",
    "\n",
    "steps_SVM.fit(X_train,y_train)\n",
    "\n",
    "predictions = steps_SVM.predict(X_valid)\n",
    "\n",
    "print(\"Accuracy score of SVM r is \",accuracy_score(predictions,true_labels))\n",
    "\n"
   ]
  },
  {
   "cell_type": "markdown",
   "id": "502f1217",
   "metadata": {},
   "source": [
    "<h2> Training a random forest classifier <h2>"
   ]
  },
  {
   "cell_type": "code",
   "execution_count": null,
   "id": "5d99ce94",
   "metadata": {},
   "outputs": [
    {
     "name": "stdout",
     "output_type": "stream",
     "text": [
      "Accuracy score for Tuned Random Forest is  0.9696\n"
     ]
    }
   ],
   "source": [
    "from sklearn.ensemble import RandomForestClassifier\n",
    "from sklearn.model_selection import GridSearchCV\n",
    "\n",
    "forest_classifier = RandomForestClassifier()\n",
    "\n",
    "forest_classifier.fit(X_train,y_train)\n",
    "predictions = forest_classifier.predict(X_valid)\n",
    "true_labels = y_valid\n",
    "print(\"Accuracy score for Tuned Random Forest is \" ,accuracy_score(predictions,true_labels))\n",
    "\n",
    "\n"
   ]
  },
  {
   "cell_type": "markdown",
   "id": "a98bc376",
   "metadata": {},
   "source": [
    "<h2> Training hard Voting ensemble model consisting  the three models <h2>"
   ]
  },
  {
   "cell_type": "code",
   "execution_count": null,
   "id": "89f6392b",
   "metadata": {},
   "outputs": [
    {
     "name": "stdout",
     "output_type": "stream",
     "text": [
      "Accuracy score for the hard voting classifier is\n",
      "0.9412\n"
     ]
    }
   ],
   "source": [
    "from sklearn.ensemble import VotingClassifier\n",
    "\n",
    "models =[\n",
    "    ('ridge',steps_ridge),\n",
    "    ('svm',steps_SVM),\n",
    "    ('forest',forest_classifier)\n",
    "\n",
    "]\n",
    "\n",
    "ensemble_hard = VotingClassifier(\n",
    "    estimators = models,\n",
    "    voting='hard'\n",
    ")\n",
    "\n",
    "ensemble_hard.fit(X_train,y_train)\n",
    "\n",
    "predictions = ensemble_hard.predict(X_valid)\n",
    "\n",
    "print(\"Accuracy score for the hard voting classifier is\")\n",
    "print(accuracy_score(predictions,true_labels))\n",
    "\n",
    "\n"
   ]
  },
  {
   "cell_type": "markdown",
   "id": "d4ff4288",
   "metadata": {},
   "source": [
    "<h2> Stacked ensemble <h2>"
   ]
  },
  {
   "cell_type": "code",
   "execution_count": null,
   "id": "c90f7b03",
   "metadata": {},
   "outputs": [
    {
     "name": "stderr",
     "output_type": "stream",
     "text": [
      "/Users/parvizpirizade/Documents/DecisionTrees/venv/lib/python3.13/site-packages/sklearn/linear_model/_logistic.py:473: ConvergenceWarning: lbfgs failed to converge after 100 iteration(s) (status=1):\n",
      "STOP: TOTAL NO. OF ITERATIONS REACHED LIMIT\n",
      "\n",
      "Increase the number of iterations to improve the convergence (max_iter=100).\n",
      "You might also want to scale the data as shown in:\n",
      "    https://scikit-learn.org/stable/modules/preprocessing.html\n",
      "Please also refer to the documentation for alternative solver options:\n",
      "    https://scikit-learn.org/stable/modules/linear_model.html#logistic-regression\n",
      "  n_iter_i = _check_optimize_result(\n"
     ]
    },
    {
     "name": "stdout",
     "output_type": "stream",
     "text": [
      "The Accuracy score for Stacked ensemble is 0.0984\n"
     ]
    }
   ],
   "source": [
    "from sklearn.ensemble import StackingClassifier\n",
    "from sklearn.linear_model import LogisticRegression\n",
    "\n",
    "\n",
    "final_estimator = LogisticRegression()\n",
    "\n",
    "stacked_model = StackingClassifier(\n",
    "    estimators=models,\n",
    "    final_estimator=final_estimator\n",
    ")\n",
    "\n",
    "stacked_model.fit(X_train,y_train)\n",
    "\n",
    "predictions = stacked_model.predict(X_test)\n",
    "\n",
    "print(\"The Accuracy score for Stacked ensemble is\" , accuracy_score(predictions,true_labels))"
   ]
  }
 ],
 "metadata": {
  "kernelspec": {
   "display_name": "venv (3.13.6)",
   "language": "python",
   "name": "python3"
  },
  "language_info": {
   "codemirror_mode": {
    "name": "ipython",
    "version": 3
   },
   "file_extension": ".py",
   "mimetype": "text/x-python",
   "name": "python",
   "nbconvert_exporter": "python",
   "pygments_lexer": "ipython3",
   "version": "3.13.6"
  }
 },
 "nbformat": 4,
 "nbformat_minor": 5
}
