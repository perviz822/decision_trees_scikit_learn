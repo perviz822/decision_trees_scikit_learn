{
 "cells": [
  {
   "cell_type": "code",
   "execution_count": 1,
   "id": "a5822467",
   "metadata": {},
   "outputs": [],
   "source": [
    "import numpy as np"
   ]
  },
  {
   "cell_type": "code",
   "execution_count": 13,
   "id": "a441e6a8",
   "metadata": {},
   "outputs": [
    {
     "name": "stdout",
     "output_type": "stream",
     "text": [
      "[[1. 0. 0.]\n",
      " [0. 1. 0.]\n",
      " [0. 0. 1.]]\n",
      "(5, 5)\n",
      "[[0 0 0 0 0]\n",
      " [1 0 0 0 0]\n",
      " [0 2 0 0 0]\n",
      " [0 0 3 0 0]\n",
      " [0 0 0 4 0]]\n"
     ]
    }
   ],
   "source": [
    "\n",
    "# 1. Create an random array  values between 1 and 51\n",
    "arr = np.random.randint(1,51,50).reshape(5,10)\n",
    "\n",
    "#2 Create an 3x3 identity matrix\n",
    "\n",
    "ident = np.identity(n=3)\n",
    "\n",
    "print(ident)\n",
    "\n",
    "\n",
    "# create an diagonal matrix\n",
    "\n",
    "diag = np.diag([1,2,3,4],k=-1)\n",
    "\n",
    "print(diag.shape)\n",
    "\n",
    "\n",
    "print(diag)\n"
   ]
  },
  {
   "cell_type": "code",
   "execution_count": null,
   "id": "eec246be",
   "metadata": {},
   "outputs": [
    {
     "name": "stdout",
     "output_type": "stream",
     "text": [
      "[[ 0  1  2  3  4]\n",
      " [ 5  6  7  8  9]\n",
      " [10 11 12 13 14]\n",
      " [15 16 17 18 19]\n",
      " [20 21 22 23 24]]\n",
      "[[0 1]\n",
      " [5 6]]\n"
     ]
    }
   ],
   "source": [
    "ar2 = np.arange(25).reshape(5,5)\n",
    "\n",
    "\n",
    "print(ar2)\n",
    "\n",
    "#extracting a submatrix\n",
    "print(ar2[0:2,0:2])\n",
    "\n"
   ]
  },
  {
   "cell_type": "code",
   "execution_count": null,
   "id": "3a4ab252",
   "metadata": {},
   "outputs": [
    {
     "name": "stdout",
     "output_type": "stream",
     "text": [
      "[ 0  1  2  3  4  5  6  7  8  9 10 11 12 13 14 15 16 17 18 19]\n",
      "[ 0  1  2  3  4  5  6  7  8  9 10 11 12 13 14 15 16 17 18 19]\n"
     ]
    },
    {
     "data": {
      "text/plain": [
       "<function print(*args, sep=' ', end='\\n', file=None, flush=False)>"
      ]
     },
     "execution_count": 24,
     "metadata": {},
     "output_type": "execute_result"
    }
   ],
   "source": [
    "\n",
    "\n",
    "ar3 = np.arange(20)\n",
    "\n",
    "print(ar3)\n",
    "\n",
    "\n",
    "#if  element is greater than 10, replace it with -1, otherwise  keep it same\n",
    "\n",
    "#How np.where(condition, x, y) works\n",
    "\n",
    "#It checks the condition element-wise:\n",
    "\n",
    "#If True → take the value from x.\n",
    "\n",
    "#If False → take the value from y.\n",
    "ar3 = np.where(ar3 >10,-1,ar3)\n",
    "\n",
    "\n",
    "print(ar3)\n",
    "print"
   ]
  },
  {
   "cell_type": "markdown",
   "id": "8fbd720b",
   "metadata": {},
   "source": [
    "(x -xmin )/ (xmax-xmin)"
   ]
  },
  {
   "cell_type": "code",
   "execution_count": null,
   "id": "21dd7375",
   "metadata": {},
   "outputs": [
    {
     "name": "stdout",
     "output_type": "stream",
     "text": [
      "[-0.04166667  0.          0.04166667  0.08333333  0.125       0.16666667\n",
      "  0.20833333  0.25        0.29166667  0.33333333  0.375       0.41666667\n",
      "  0.45833333  0.5         0.54166667  0.58333333  0.625       0.66666667\n",
      "  0.70833333  0.75        0.79166667  0.83333333  0.875       0.91666667\n",
      "  0.95833333]\n"
     ]
    }
   ],
   "source": [
    "def min_max_normalize(arr):\n",
    "    return (arr - np.min(arr) )/ (np.max(arr) - np.min(arr))\n",
    "\n",
    "new_arr = np.arange(25)\n",
    "\n",
    "new_arr =  (new_arr - np.min(arr) )/ (np.max(new_arr) - np.min(new_arr))\n",
    "\n",
    "print(new_arr)\n",
    "\n",
    "\n",
    "\n"
   ]
  },
  {
   "cell_type": "code",
   "execution_count": null,
   "id": "d406478f",
   "metadata": {},
   "outputs": [
    {
     "name": "stdout",
     "output_type": "stream",
     "text": [
      "-0.04545454545454544\n"
     ]
    }
   ],
   "source": [
    "A = np.array([[2,3],[4,-5]])\n",
    "b= np.array([1,7]).reshape(-1,1)\n",
    "\n",
    "#Solve system of Linear Equations\n",
    "np.linalg.solve(A,b)\n",
    "\n",
    "\n",
    "#Find an inverse of Matrix\n",
    "A_inverse = np.linalg.inv(A)\n",
    "\n",
    "\n",
    "#get the determinant of inverse matrix\n",
    "print(np.linalg.det(A_inverse))\n"
   ]
  },
  {
   "cell_type": "markdown",
   "id": "efad2d8c",
   "metadata": {},
   "source": [
    "### What is numpy  why is it popular ?\n",
    "\n",
    "1. Numpy is an open source library in python that is  mainly used for mathematical  operations.\n",
    "It's fast performance is one of the things that has made it popular\n",
    "Seamless integration with other libraries, such as sklarn, pandas,\n",
    "\n",
    "\n",
    "### How does numpy differ from python lists ?\n",
    "\n",
    "Numpy arrays are stored in one block in the memory and  it's homogenuous, meaning it can only store fixed size, same type data, which is one of the things that makes numpy arrays faster. As we can directly access the adress memories with numpy it increases access speed, and also  in numpy  vectorization feature allows as to perform  elementwise operations  in one go.\n",
    "\n",
    "### What is broadcasting ?\n",
    "\n",
    "Broadcasting in numpy enables us to perform elementwise operation between arrays of different sizes, by implicitly matching the array's dimensions\n",
    "\n",
    "\n",
    "### What is vectorization\n",
    "Vectorization allows us  perform element wise operations, with one operation , avoiding loops\n",
    "\n",
    "\n",
    "### Can numpy hold different types of data\n",
    "\n",
    "No, it can not, it will upcast elements to string for example if there is  string\n",
    "\n",
    "\n",
    "### How do you efficiently store arrays with lots of zeros ?\n",
    "\n",
    "\n",
    "When working with sparse data (many zeroes), scipy.sparse matrices reduce memory usage.\n",
    "\n",
    "\n",
    "### How would you apply a function elementwise to numpy array ?\n",
    "I would use np.vectorize()\n",
    "\n",
    "\n",
    "### What are ufuncs in numpy?\n",
    "np.add\n",
    "np.sum\n",
    "np.sqrt\n",
    "np.min\n",
    "np.max\n",
    "\n",
    "Implemented in C → avoids Python overhead\n",
    "\n",
    "Operate on contiguous memory → CPU vectorization, SIMD instructions\n",
    "\n",
    "Avoid Python-level loops → each operation happens at the memory level\n",
    "\n",
    "### Explain the difference between a shallow copy and a deep copy of a NumPy array.\n",
    "\n",
    "\n"
   ]
  },
  {
   "cell_type": "markdown",
   "id": "5d9df032",
   "metadata": {},
   "source": []
  },
  {
   "cell_type": "markdown",
   "id": "67702f50",
   "metadata": {},
   "source": [
    "### Shallow copy"
   ]
  },
  {
   "cell_type": "code",
   "execution_count": null,
   "id": "08900c79",
   "metadata": {},
   "outputs": [
    {
     "name": "stdout",
     "output_type": "stream",
     "text": [
      "[[ 1 78  3]\n",
      " [ 4  5  6]]\n"
     ]
    }
   ],
   "source": [
    "a = np.array([1,2,3,4,5,6]).reshape(2,3)\n",
    "b = a.view()\n",
    "b[0][1] =78\n",
    "print(a)"
   ]
  },
  {
   "cell_type": "markdown",
   "id": "b6d113d3",
   "metadata": {},
   "source": [
    "### Deep copy"
   ]
  },
  {
   "cell_type": "code",
   "execution_count": 43,
   "id": "518af6ac",
   "metadata": {},
   "outputs": [
    {
     "name": "stdout",
     "output_type": "stream",
     "text": [
      "[[1 2 3]\n",
      " [4 5 6]]\n"
     ]
    }
   ],
   "source": [
    "a = np.array([1,2,3,4,5,6]).reshape(2,3)\n",
    "b = a.copy()\n",
    "b[0][1] =78\n",
    "print(a)"
   ]
  },
  {
   "cell_type": "markdown",
   "id": "d2cbe431",
   "metadata": {},
   "source": [
    "### Can a new element added to numpy array after array creation?\n",
    "No"
   ]
  },
  {
   "cell_type": "markdown",
   "id": "c67d90f8",
   "metadata": {},
   "source": [
    "### Is SIMD used by NumPy?\n",
    "\n",
    "Yes by using CPU SIMD type instruction, multiple elements can be modified with one CPU instruction"
   ]
  },
  {
   "cell_type": "markdown",
   "id": "7764a8ef",
   "metadata": {},
   "source": [
    "### In NumPy, how do I change the data type of an array?"
   ]
  },
  {
   "cell_type": "code",
   "execution_count": null,
   "id": "4b107ab0",
   "metadata": {},
   "outputs": [
    {
     "name": "stdout",
     "output_type": "stream",
     "text": [
      "[4.1 2.3]\n",
      "[4 2]\n"
     ]
    }
   ],
   "source": [
    "arr = np.array([4.1,2.3])\n",
    "new_arr= arr.astype('i')\n",
    "print(arr)\n",
    "print(new_arr)"
   ]
  },
  {
   "cell_type": "markdown",
   "id": "4ce64291",
   "metadata": {},
   "source": [
    "### How to create numpy array from a list ?"
   ]
  },
  {
   "cell_type": "code",
   "execution_count": null,
   "id": "143db024",
   "metadata": {},
   "outputs": [],
   "source": [
    "list1 = [1,2,3,4,5,6]\n",
    "np_array = np.array(list1)"
   ]
  },
  {
   "cell_type": "markdown",
   "id": "2be0dc9f",
   "metadata": {},
   "source": [
    "### How to create a list from numpy array ?"
   ]
  },
  {
   "cell_type": "code",
   "execution_count": null,
   "id": "f6d2b0f9",
   "metadata": {},
   "outputs": [],
   "source": [
    "# Convert a numpy array to a Python list\n",
    "my_list = np_array.tolist()\n",
    "print(my_list)"
   ]
  },
  {
   "cell_type": "markdown",
   "id": "a1243231",
   "metadata": {},
   "source": [
    "### How to reverse numpy array ?"
   ]
  },
  {
   "cell_type": "markdown",
   "id": "64c50f5c",
   "metadata": {},
   "source": [
    "\n",
    "arr = np.array([1,2,3,4,5,6])\n",
    "reversed_arr = arr[::-1]\n",
    "print(reversed_arr)\n"
   ]
  },
  {
   "cell_type": "markdown",
   "id": "cbb2ba2c",
   "metadata": {},
   "source": [
    "### How do you find the unique elements in numpy array"
   ]
  },
  {
   "cell_type": "code",
   "execution_count": 48,
   "id": "76aa8446",
   "metadata": {},
   "outputs": [
    {
     "name": "stdout",
     "output_type": "stream",
     "text": [
      "[1 2 3 4 5 6 7]\n"
     ]
    }
   ],
   "source": [
    "arr = np.array([1,1,1,2,3,4,5,6,6,7])\n",
    "unique_elems=  np.unique(arr)\n",
    "print(unique_elems)"
   ]
  },
  {
   "cell_type": "markdown",
   "id": "f67d6479",
   "metadata": {},
   "source": [
    "### Write a NumPy function to get the maximum value from each column of a 2D array."
   ]
  },
  {
   "cell_type": "code",
   "execution_count": null,
   "id": "225b0b01",
   "metadata": {},
   "outputs": [
    {
     "name": "stdout",
     "output_type": "stream",
     "text": [
      "[[1 2 3]\n",
      " [4 5 6]]\n",
      "[4 5 6]\n"
     ]
    }
   ],
   "source": [
    "arr = np.array([1,2,3,4,5,6]).reshape(2,3)\n",
    "column_max = np.max(arr,axis=0)\n",
    "print(arr)\n",
    "print(column_max)"
   ]
  },
  {
   "cell_type": "markdown",
   "id": "a998a68a",
   "metadata": {},
   "source": [
    "### Numpy functions that return indices\n",
    "1.np.where()\n",
    "\n",
    "2.np.nonzero()\n",
    "\n",
    "3.np.argmax()\n",
    "\n",
    "4.np.argmin()"
   ]
  },
  {
   "cell_type": "markdown",
   "id": "461c5b37",
   "metadata": {},
   "source": [
    "### How do you filter numpy array ?"
   ]
  },
  {
   "cell_type": "code",
   "execution_count": null,
   "id": "1dc028c0",
   "metadata": {},
   "outputs": [
    {
     "name": "stdout",
     "output_type": "stream",
     "text": [
      "[ True  True False False False False]\n",
      "[1 2]\n",
      "[ 0  0  3  4  5 65]\n"
     ]
    }
   ],
   "source": [
    "arr = np.array([1,2,3,4,5,65])\n",
    "mask = arr <3\n",
    "## boolean mask  True and Falses\n",
    "print(mask)\n",
    "# Applying the masking\n",
    "print(arr[mask])\n",
    "#replacing the values\n",
    "arr[mask] = [0,0]\n",
    "arr[mask] = 0\n",
    "\n",
    "\n",
    "print(arr)\n"
   ]
  }
 ],
 "metadata": {
  "kernelspec": {
   "display_name": "venv (3.13.6)",
   "language": "python",
   "name": "python3"
  },
  "language_info": {
   "codemirror_mode": {
    "name": "ipython",
    "version": 3
   },
   "file_extension": ".py",
   "mimetype": "text/x-python",
   "name": "python",
   "nbconvert_exporter": "python",
   "pygments_lexer": "ipython3",
   "version": "3.13.6"
  }
 },
 "nbformat": 4,
 "nbformat_minor": 5
}
